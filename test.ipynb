{
 "cells": [
  {
   "cell_type": "code",
   "execution_count": 1,
   "metadata": {},
   "outputs": [
    {
     "name": "stderr",
     "output_type": "stream",
     "text": [
      "/home/fulinj/.local/lib/python3.6/site-packages/tqdm/auto.py:22: TqdmWarning: IProgress not found. Please update jupyter and ipywidgets. See https://ipywidgets.readthedocs.io/en/stable/user_install.html\n",
      "  from .autonotebook import tqdm as notebook_tqdm\n"
     ]
    }
   ],
   "source": [
    "import pandas as pd\n",
    "import numpy as np\n",
    "import os\n",
    "from PIL import Image\n",
    "import cv2\n",
    "from termcolor import cprint\n",
    "import torch\n",
    "import torch.nn as nn\n",
    "import pickle\n",
    "import matplotlib.pyplot as plt\n",
    "import glob\n",
    "import itertools\n",
    "from itertools import zip_longest\n",
    "import math\n",
    "import torch.nn.functional as F"
   ]
  },
  {
   "cell_type": "code",
   "execution_count": 3,
   "metadata": {},
   "outputs": [],
   "source": [
    "pickle_file_path = glob.glob(os.path.join('/home/fulinj/Social-Nav-Representation-Learning/test/', '*_data.pkl'))\n",
    "data = pickle.load(open(pickle_file_path[0].replace('_data.pkl', '_final.pkl'), 'rb'))"
   ]
  },
  {
   "cell_type": "code",
   "execution_count": 38,
   "metadata": {},
   "outputs": [],
   "source": [
    "pickle_file_path = glob.glob(os.path.join('/scratch/fulinj/social_nav/data/', '*_data.pkl'))\n",
    "data = pickle.load(open(pickle_file_path[0].replace('_data.pkl', '_final.pkl'), 'rb'))"
   ]
  },
  {
   "cell_type": "markdown",
   "metadata": {},
   "source": [
    "305 time stamps, matched up with # of lidar images. \\\n",
    "At each time stamp, we have a sequence of points which forms a trajectory from current position to a future goal 10 meters away, \\\n",
    "as well as a sequence of joystick commands until 10 meters in the future. "
   ]
  },
  {
   "cell_type": "code",
   "execution_count": 39,
   "metadata": {},
   "outputs": [
    {
     "name": "stdout",
     "output_type": "stream",
     "text": [
      "move_base_cmd_vel\n",
      "move_base_path\n",
      "human_expert_odom\n",
      "pose\n",
      "odom_history\n",
      "odom\n",
      "joystick\n",
      "future_joystick\n",
      "local_goals\n",
      "local_goal_human_odom\n",
      "854\n",
      "854\n",
      "115\n",
      "421\n",
      "125\n",
      "461\n",
      "[7.83178401 0.1429862 ]\n"
     ]
    }
   ],
   "source": [
    "for key, value in data.items():\n",
    "    print(key)\n",
    "print(len(data['human_expert_odom']))\n",
    "print(len(data['local_goals']))\n",
    "print(len(data['human_expert_odom'][19]))\n",
    "print(len(data['future_joystick'][19]))\n",
    "print(len(data['human_expert_odom'][1]))\n",
    "print(len(data['future_joystick'][1]))\n",
    "print(data['local_goals'][-1][-1])"
   ]
  },
  {
   "cell_type": "code",
   "execution_count": 40,
   "metadata": {},
   "outputs": [],
   "source": [
    "def flatten(nested_list):\n",
    "   return list(zip( * _flattengen(nested_list)))\n",
    "\n",
    "def _flattengen(iterable):\n",
    "    for element in zip_longest( * iterable, fillvalue = \"\"):\n",
    "        if isinstance(element[0], list):\n",
    "            for e in _flattengen(element):\n",
    "                yield e\n",
    "        else :\n",
    "            yield element"
   ]
  },
  {
   "cell_type": "code",
   "execution_count": 5,
   "metadata": {},
   "outputs": [
    {
     "data": {
      "text/plain": [
       "(array([ 55., 184., 201., 166.,  31.,  11.,  18.,  15.,   9.,  10.]),\n",
       " array([0.45700697, 0.50804514, 0.55908332, 0.61012149, 0.66115966,\n",
       "        0.71219784, 0.76323601, 0.81427418, 0.86531236, 0.91635053,\n",
       "        0.96738871]),\n",
       " <BarContainer object of 10 artists>)"
      ]
     },
     "execution_count": 5,
     "metadata": {},
     "output_type": "execute_result"
    },
    {
     "data": {
      "image/png": "[encoded data removed]",
      "text/plain": [
       "<Figure size 432x288 with 1 Axes>"
      ]
     },
     "metadata": {},
     "output_type": "display_data"
    }
   ],
   "source": [
    "# print(data['human_expert_odom'][19][0:10])\n",
    "# print('\\n')\n",
    "variances = []\n",
    "for i in range(700):\n",
    "    var_ = (np.asarray(data['future_joystick'][i][:150]).flatten()).var()\n",
    "    variances.append(var_)\n",
    "    # if var_ > 0.8:\n",
    "    #     print(i)\n",
    "    \n",
    "# print(variances)\n",
    "plt.hist(variances)\n",
    "# new = np.asarray(flatten(data['human_expert_odom'][0][:50])).flatten()\n",
    "# np.var(new)\n",
    "# df = pd.DataFrame(new)\n",
    "# df.head()"
   ]
  },
  {
   "cell_type": "code",
   "execution_count": 18,
   "metadata": {},
   "outputs": [
    {
     "name": "stdout",
     "output_type": "stream",
     "text": [
      "0.022679729775029436\n"
     ]
    }
   ],
   "source": [
    "x = np.asarray(flatten(data['future_joystick'][2][:150])).flatten()\n",
    "y = np.asarray(flatten(data['future_joystick'][3][:150])).flatten()\n",
    "dist = ((x - y)**2).mean()\n",
    "print(dist)"
   ]
  },
  {
   "cell_type": "code",
   "execution_count": 41,
   "metadata": {},
   "outputs": [
    {
     "name": "stdout",
     "output_type": "stream",
     "text": [
      "640 854\n",
      "[1, 1, 1, 1, 1, 1, 1, 1, 1, 1, 1, 1, 1, 1, 1, 1, 1, 1, 1, 1, 1, 1, 1, 1, 1, 1, 1, 1, 1, 1, 1, 1, 1, 0, 0, 0, 0, 0, 0, 0, 0, 0, 0, 0, 0, 0, 0, 0, 0, 0, 0, 0, 0, 0, 0, 0, 0, 0, 0, 0, 0, 0, 0, 0, 0, 0, 0, 0, 0, 0, 0, 0, 0, 0, 0, 0, 0, 0, 0, 0, 0, 0, 0, 0, 0, 0, 0, 0, 0, 0, 0, 0, 0, 0, 0, 0, 0, 0, 0, 0, 0, 0, 0, 0, 0, 0, 0, 0, 0, 0, 0, 0, 0, 0, 0, 0, 0, 0, 0, 0, 0, 0, 0, 0, 0, 0, 0, 0, 0, 0, 0, 0, 0, 0, 0, 0, 0, 0, 0, 0, 0, 0, 0, 0, 0, 0, 0, 0, 0, 0, 0, 0, 0, 0, 0, 0, 1, 1, 1, 1, 1, 1, 1, 1, 1, 1, 1, 1, 1, 1, 1, 1, 1, 1, 1, 1, 1, 1, 0, 0, 0, 0, 0, 0, 0, 0, 0, 0, 0, 0, 0, 0, 0, 0, 0, 0, 0, 0, 0, 0, 0, 0, 0, 0, 0, 0, 1, 1, 1, 1, 1, 1, 1, 1, 1, 1, 1, 1, 1, 1, 1, 1, 0, 0, 0, 0, 0, 0, 0, 0, 0, 0, 0, 0, 0, 0, 0, 0, 0, 0, 0, 0, 0, 0, 0, 0, 0, 0, 1, 1, 1, 1, 1, 1, 1, 1, 1, 1, 1, 1, 1, 1, 1, 1, 1, 1, 1, 1, 1, 1, 1, 1, 1, 1, 1, 1, 1, 1, 1, 1, 1, 1, 1, 1, 1, 1, 1, 1, 1, 1, 1, 1, 1, 1, 1, 1, 1, 1, 1, 1, 1, 1, 1, 1, 1, 1, 1, 1, 1, 1, 1, 1, 1, 1, 1, 1, 1, 1, 1, 1, 1, 1, 1, 1, 1, 1, 1, 1, 1, 1, 1, 1, 1, 1, 1, 1, 1, 1, 1, 1, 1, 1, 1, 1, 0, 0, 0, 0, 0, 0, 0, 0, 0, 0, 0, 0, 1, 1, 1, 1, 1, 1, 1, 1, 1, 1, 1, 1, 1, 1, 1, 1, 1, 1, 1, 1, 1, 1, 1, 0, 0, 0, 0, 0, 0, 0, 0, 0, 0, 0, 0, 0, 0, 0, 0, 0, 0, 0, 0, 0, 0, 0, 0, 0, 0, 0, 0, 0, 0, 0, 0, 0, 0, 0, 0, 0, 0, 0, 0, 0, 0, 0, 0, 0, 0, 0, 1, 1, 1, 1, 1, 1, 1, 1, 1, 1, 1, 1, 1, 1, 1, 1, 1, 1, 1, 1, 1, 1, 1, 1, 0, 0, 0, 0, 0, 0, 0, 0, 0, 0, 0, 0, 0, 0, 0, 0, 0, 0, 0, 0, 0, 0, 0, 0, 0, 0, 0, 0, 0, 0, 0, 0, 0, 0, 0, 0, 0, 0, 0, 0, 0, 0, 0, 0, 0, 0, 0, 0, 0, 0, 0, 0, 0, 0, 0, 0, 0, 0, 0, 0, 0, 0, 0, 0, 0, 0, 0, 0, 0, 0, 0, 0, 0, 0, 0, 0, 0, 0, 0, 0, 0, 0, 0, 0, 0, 0, 0, 0, 0, 0, 0, 0, 0, 0, 0, 0, 0, 0, 0, 0, 0, 0, 0, 0, 0, 0, 0, 0, 0, 0, 0, 0, 0, 0, 0, 0, 0, 0, 0, 0, 0, 0, 0, 0, 0, 0, 0, 0, 0, 0, 0, 0, 0, 0, 0, 0, 0, 0, 0, 0, 0, 0, 0, 0, 0, 0, 0, 0, 0, 0, 0, 0, 0, 0, 0, 0, 0, 0, 0, 0, 0, 0, 0, 0, 0, 0, 0, 0, 0, 0, 0, 0, 0, 0, 0, 0, 0, 0, 0, 0, 0, 0, 0, 0, 0, 0, 0, 0, 0, 0, 0, 0, 0, 0, 0, 0, 0, 0, 0, 0, 0, 0, 0, 0, 0, 0, 0, 0, 0, 0, 0, 0, 0, 0, 0, 0, 0, 0, 0, 0, 0, 0, 0, 0, 0, 0, 0, 0, 0, 0, 0, 0, 0, 0, 0, 0, 0, 0, 0, 0, 0, 0, 0, 0, 0, 0, 0, 0, 0, 0, 0, 0, 0, 0, 0, 0, 0, 0, 0, 0, 0, 0, 0, 0, 0, 0, 0, 0, 0, 0, 0, 0, 0, 0, 0, 0, 0, 0, 0, 0, 0, 0, 0, 0, 0, 0, 0, 0, 0, 0, 0, 0, 0, 0, 0, 0, 0, 0, 0, 0, 0, 0, 0, 0, 0, 0, 0, 0, 0, 0, 0, 0, 0, 0, 0, 0, 0, 0, 0, 0, 0, 0, 0, 0, 0, 0, 0, 0, 0, 0, 0, 0, 0, 0, 0, 0, 0, 0, 0, 0, 0, 0, 0, 0, 0, 0, 0, 0, 0, 0, 0, 0, 0, 0, 0, 0, 0, 0, 0, 0, 0, 0, 0, 0, 0, 0, 0, 0, 0, 0, 0, 0, 0, 0, 0, 0, 0, 0, 0, 0, 0, 0, 0, 0, 0, 0, 0, 0, 0, 0, 0, 0, 0, 0, 0, 0, 0, 0, 0, 0, 0, 0, 0, 0]\n"
     ]
    }
   ],
   "source": [
    "# joystick_simularities = []\n",
    "# masks = [1 for _ in range(len(data['future_joystick']))]\n",
    "# count = 0\n",
    "# for i, x in enumerate(data['future_joystick']):\n",
    "#     x = np.asarray(flatten(x[:150])).flatten()\n",
    "#     for j, y in enumerate(data['future_joystick'][i+1:]):\n",
    "#         y = np.asarray(flatten(y[:150])).flatten()\n",
    "#         dist = ((x - y)**2).mean()\n",
    "#         if dist < 0.005:\n",
    "#             masks[i] = 0\n",
    "#             count+=1\n",
    "#             break\n",
    "#         # joystick_simularities.append(dist)\n",
    "# print(count, len(data['future_joystick']))\n",
    "# print(masks)\n",
    "data = pickle.load(open(pickle_file_path[1].replace('_data.pkl', '_final.pkl'), 'rb'))\n",
    "joystick_simularities = []\n",
    "masks = [1 for _ in range(len(data['future_joystick']))]\n",
    "count = 0\n",
    "straight = np.asarray([1.6, 0, 0] * 150)\n",
    "for i, x in enumerate(data['future_joystick']):\n",
    "    x = np.asarray(flatten(x[:150])).flatten()\n",
    "    dist = ((x - straight) ** 2).mean()\n",
    "    joystick_simularities.append(dist)\n",
    "    if dist < 0.005:\n",
    "        masks[i] = 0\n",
    "        count+=1\n",
    "#     for j, y in enumerate(data['future_joystick'][i+1:]):\n",
    "#         y = np.asarray(flatten(y[:150])).flatten()\n",
    "#         dist = ((x - y)**2).mean()\n",
    "#         if dist < 0.005:\n",
    "#             masks[i] = 0\n",
    "#             count+=1\n",
    "#             break\n",
    "#         # joystick_simularities.append(dist)\n",
    "print(count, len(data['future_joystick']))\n",
    "print(masks)\n",
    "\n"
   ]
  },
  {
   "cell_type": "code",
   "execution_count": 10,
   "metadata": {},
   "outputs": [
    {
     "data": {
      "text/plain": [
       "(array([580.,  90.,  28.,  15.,  27.,   5.,   7.,  17.,   4.,   0.,   0.,\n",
       "          0.,   0.,   0.,   0.,   0.,   0.,   0.,   0.,   0.]),\n",
       " array([0.   , 0.025, 0.05 , 0.075, 0.1  , 0.125, 0.15 , 0.175, 0.2  ,\n",
       "        0.225, 0.25 , 0.275, 0.3  , 0.325, 0.35 , 0.375, 0.4  , 0.425,\n",
       "        0.45 , 0.475, 0.5  ]),\n",
       " [<matplotlib.patches.Polygon at 0x7f0035d99f98>])"
      ]
     },
     "execution_count": 10,
     "metadata": {},
     "output_type": "execute_result"
    },
    {
     "data": {
      "image/png": "[encoded data removed]",
      "text/plain": [
       "<Figure size 432x288 with 1 Axes>"
      ]
     },
     "metadata": {},
     "output_type": "display_data"
    }
   ],
   "source": [
    "plt.hist(joystick_simularities, 20, range=(0, 0.5), histtype='stepfilled', color='steelblue', edgecolor='black')"
   ]
  },
  {
   "cell_type": "code",
   "execution_count": 5,
   "metadata": {},
   "outputs": [
    {
     "name": "stdout",
     "output_type": "stream",
     "text": [
      "773 139\n"
     ]
    }
   ],
   "source": [
    "x = 0\n",
    "y = 0\n",
    "for d in data['future_joystick']:\n",
    "    x += 1\n",
    "    if d[0][0] == 1.6 and d[0][1] == 0 and d[0][2] == 0:\n",
    "        y += 1\n",
    "print(x, y)"
   ]
  },
  {
   "cell_type": "code",
   "execution_count": 20,
   "metadata": {},
   "outputs": [
    {
     "data": {
      "text/plain": [
       "9"
      ]
     },
     "execution_count": 20,
     "metadata": {},
     "output_type": "execute_result"
    }
   ],
   "source": [
    "masks = [1 for _ in range(10)]\n",
    "masks[5] = 0\n",
    "masks[3] = 0\n",
    "masks[7] = 0\n",
    "idx = 7\n",
    "idx = idx + masks[:idx].count(0)\n",
    "idx"
   ]
  },
  {
   "cell_type": "code",
   "execution_count": 72,
   "metadata": {},
   "outputs": [
    {
     "name": "stdout",
     "output_type": "stream",
     "text": [
      "[[ 0.33333333 -1.66666667  1.          1.        ]\n",
      " [-1.66666667  3.33333333  3.          3.        ]\n",
      " [ 1.33333333 -1.66666667 -4.         -4.        ]]\n",
      "[1.55555556 5.55555556 8.66666667 8.66666667]\n"
     ]
    },
    {
     "data": {
      "text/plain": [
       "697.7222222222222"
      ]
     },
     "execution_count": 72,
     "metadata": {},
     "output_type": "execute_result"
    }
   ],
   "source": [
    "def off_diagonal(x):\n",
    "    # return a flattened view of the off-diagonal elements of a square matrix\n",
    "    n, m = x.shape\n",
    "    assert n == m\n",
    "    return x.flatten()[:-1].reshape(n - 1, n + 1)[:, 1:].flatten()\n",
    "\n",
    "x = np.array([[3,2,6,9],[1,7,8,11],[4,2,1,4]])\n",
    "x = x - x.mean(axis=0)\n",
    "print(x)\n",
    "std_x = x.var(axis=0)\n",
    "print(std_x)\n",
    "cov_x = x.T @ x\n",
    "cov_loss = (off_diagonal(cov_x)**2).sum() / 4\n",
    "cov_loss\n",
    "# x_new = off_diagonal(x)\n",
    "# x_new\n",
    "# x = np.expand_dims(np.asarray(data['future_joystick'][0][:2]).flatten(), axis=0)\n",
    "# y = np.expand_dims(np.asarray(data['future_joystick'][100][:2]).flatten(), axis=0)\n",
    "# x2 = np.expand_dims(np.asarray(data['future_joystick'][200][:2]).flatten(), axis=0)\n",
    "# y2 = np.expand_dims(np.asarray(data['future_joystick'][300][:2]).flatten(), axis=0)\n",
    "# x = np.append(x, x2, axis=0)\n",
    "# y = np.append(y, y2, axis=0)\n",
    "# cov_x = x.T @ x\n",
    "# cov_y = y.T @ y\n",
    "# print(cov_x.shape)\n",
    "# cov_loss = off_diagonal(cov_x).pow_(2).sum().div(6)\n",
    "\n",
    "# print(cov_loss)"
   ]
  },
  {
   "cell_type": "code",
   "execution_count": 1,
   "metadata": {},
   "outputs": [
    {
     "name": "stderr",
     "output_type": "stream",
     "text": [
      "/home/fulinj/.local/lib/python3.6/site-packages/tqdm/auto.py:22: TqdmWarning: IProgress not found. Please update jupyter and ipywidgets. See https://ipywidgets.readthedocs.io/en/stable/user_install.html\n",
      "  from .autonotebook import tqdm as notebook_tqdm\n",
      "  0%|          | 0/2 [00:00<?, ?it/s]"
     ]
    },
    {
     "name": "stdout",
     "output_type": "stream",
     "text": [
      "reading pickle file :  ./test/011-13-38_visualize_data.pkl\n",
      "Pickle file exists. Loading from pickle file\u001b[0m\n"
     ]
    },
    {
     "name": "stderr",
     "output_type": "stream",
     "text": [
      " 50%|█████     | 1/2 [00:01<00:01,  1.11s/it]"
     ]
    },
    {
     "name": "stdout",
     "output_type": "stream",
     "text": [
      "\u001b[1m\u001b[33mDelay frame is : 2\u001b[0m\n",
      "reading pickle file :  ./test/11-13-38_visualize_data.pkl\n",
      "Pickle file exists. Loading from pickle file\u001b[0m\n"
     ]
    },
    {
     "name": "stderr",
     "output_type": "stream",
     "text": [
      "100%|██████████| 2/2 [00:02<00:00,  1.03s/it]"
     ]
    },
    {
     "name": "stdout",
     "output_type": "stream",
     "text": [
      "\u001b[1m\u001b[33mDelay frame is : 2\u001b[0m\n",
      "\u001b[5m\u001b[1m\u001b[33mSaving val and train dataset names in text files...\u001b[0m\n",
      "\u001b[5m\u001b[1m\u001b[32mDumped val and train dataset names in text files...\u001b[0m\n",
      "\u001b[1m\u001b[32mLoaded Datasets !!\u001b[0m\n",
      "\u001b[1m\u001b[32mNum training datapoints : 751\u001b[0m\n",
      "\u001b[1m\u001b[32mNum validation datapoints : 751\u001b[0m\n"
     ]
    },
    {
     "name": "stderr",
     "output_type": "stream",
     "text": [
      "\n"
     ]
    }
   ],
   "source": [
    "from social_nav_rep_learning import MyDataLoader\n",
    "\n",
    "dl = MyDataLoader(data_path='./test/', batch_size=64, num_workers=32)"
   ]
  },
  {
   "cell_type": "code",
   "execution_count": 8,
   "metadata": {},
   "outputs": [
    {
     "data": {
      "text/plain": [
       "(300,)"
      ]
     },
     "execution_count": 8,
     "metadata": {},
     "output_type": "execute_result"
    }
   ],
   "source": [
    "dl.training_dataset[750][1].shape"
   ]
  },
  {
   "cell_type": "code",
   "execution_count": 5,
   "metadata": {},
   "outputs": [
    {
     "name": "stdout",
     "output_type": "stream",
     "text": [
      "torch.Size([2, 5, 240, 240])\n",
      "torch.Size([2, 225, 128])\n",
      "torch.Size([2, 5, 240, 240])\n",
      "torch.Size([2, 5, 15, 15, 16, 16])\n",
      "torch.Size([2, 5, 225, 16, 16])\n",
      "torch.Size([2, 225, 16, 16, 5])\n",
      "torch.Size([2, 225, 1280])\n",
      "torch.Size([2, 1, 1280])\n",
      "torch.Size([2, 226, 1280])\n",
      "torch.Size([1, 226, 1280])\n",
      "torch.Size([2, 226, 1280])\n"
     ]
    }
   ],
   "source": [
    "import torch\n",
    "from social_nav_rep_learning import PatchEmbedding\n",
    "\n",
    "img = np.asarray([dl.validation_dataset[0][0],dl.validation_dataset[1][0]])\n",
    "img = torch.from_numpy(img)\n",
    "print(img.shape)\n",
    "\n",
    "# v = SimpleViT(\n",
    "#     image_size = 256,\n",
    "#     patch_size = 32,\n",
    "#     num_classes = 1000,\n",
    "#     dim = 1024,\n",
    "#     depth = 6,\n",
    "#     heads = 16,\n",
    "#     mlp_dim = 2048\n",
    "# )\n",
    "\n",
    "preds = PatchEmbedding(240, 5, 16, 128)\n",
    "print(preds.forward(img).shape)\n",
    "# print(preds.forward(img))\n",
    "print(img.shape)\n",
    "img = img.unfold(2, 16, 16).unfold(3, 16, 16)\n",
    "print(img.shape)\n",
    "img = img.reshape(img.shape[0], img.shape[1], -1, 16, 16)\n",
    "print(img.shape)\n",
    "img = img.movedim(1, -1)\n",
    "print(img.shape)\n",
    "img = img.flatten(-3)\n",
    "print(img.shape)\n",
    "\n",
    "cls_token = nn.Parameter(torch.zeros((1, 1, 1280))).expand(2, -1, -1)\n",
    "print(cls_token.shape)\n",
    "x = torch.cat((cls_token, img), dim=1)\n",
    "print(x.shape)\n",
    "positional_embeddings = nn.Parameter(torch.zeros(1, 226, 1280))\n",
    "print(positional_embeddings.shape)\n",
    "x += positional_embeddings\n",
    "print(x.shape)"
   ]
  },
  {
   "cell_type": "code",
   "execution_count": 3,
   "metadata": {},
   "outputs": [
    {
     "name": "stdout",
     "output_type": "stream",
     "text": [
      "11\n",
      "torch.Size([64, 5, 401, 401])\n",
      "torch.Size([64, 300])\n"
     ]
    }
   ],
   "source": [
    "train_set = dl.train_dataloader()\n",
    "train_iter = iter(train_set)\n",
    "print(len(train_iter))\n",
    "batch = next(train_iter)\n",
    "print(batch[0].shape)\n",
    "print(batch[1].shape)"
   ]
  },
  {
   "cell_type": "code",
   "execution_count": 14,
   "metadata": {},
   "outputs": [
    {
     "name": "stdout",
     "output_type": "stream",
     "text": [
      "torch.Size([48, 300])\n",
      "tensor([0, 1, 1, 0, 0, 1, 0, 1, 1, 1, 1, 1, 0, 1, 0, 1, 1, 1, 0, 1, 1, 0, 1, 1,\n",
      "        1, 1, 1, 1, 1, 0, 0, 0, 1, 1, 1, 0, 1, 1, 1, 1, 1, 1, 1, 0, 1, 1, 0, 1,\n",
      "        1, 1, 1, 1, 1, 1, 1, 1, 0, 1, 1, 1, 1, 0, 1, 1])\n"
     ]
    }
   ],
   "source": [
    "masks = batch[4]\n",
    "x = batch[1]\n",
    "x = x[masks == 1]\n",
    "print(x.shape)\n",
    "print(masks)"
   ]
  },
  {
   "cell_type": "code",
   "execution_count": 21,
   "metadata": {},
   "outputs": [
    {
     "name": "stdout",
     "output_type": "stream",
     "text": [
      "1 13\n",
      "2 39\n",
      "5 14\n",
      "6 7\n",
      "7 26\n",
      "8 9\n",
      "9 10\n",
      "10 14\n",
      "13 16\n",
      "14 17\n",
      "15 24\n",
      "16 18\n",
      "17 19\n",
      "18 20\n",
      "19 27\n",
      "20 21\n",
      "24 27\n",
      "26 28\n",
      "27 33\n",
      "28 35\n",
      "29 47\n",
      "32 33\n",
      "33 36\n",
      "34 47\n",
      "35 37\n",
      "36 38\n",
      "37 47\n",
      "38 45\n",
      "45 49\n",
      "46 49\n",
      "47 48\n",
      "48 60\n",
      "49 50\n",
      "51 53\n",
      "53 57\n",
      "[1 0 0 1 1 0 0 0 0 0 0 1 1 0 0 0 0 0 0 0 0 1 1 1 0 1 0 0 0 0 1 1 0 0 0 0 0\n",
      " 0 0 1 1 1 1 1 1 0 0 0 0 0 1 0 1 0 1 1 1 1 1 1 1 1 1 1]\n",
      "torch.Size([29, 300])\n"
     ]
    },
    {
     "data": {
      "text/plain": [
       "tensor(3719.5782, dtype=torch.float64)"
      ]
     },
     "execution_count": 21,
     "metadata": {},
     "output_type": "execute_result"
    }
   ],
   "source": [
    "masks = np.asarray([1 for _ in range(64)])\n",
    "x = batch[1]\n",
    "fixed_joy = batch[4]\n",
    "for i, joy1 in enumerate(fixed_joy):\n",
    "    for j, joy2 in enumerate(fixed_joy[i+1:]):\n",
    "        dist = ((joy1 - joy2)**2).mean()\n",
    "        if dist < 0.005:\n",
    "            print(i,j+i+1)\n",
    "            masks[i] = 0\n",
    "            break\n",
    "print(masks)\n",
    "x = x[masks == 1]\n",
    "print(x.shape)\n",
    "repr_loss = ((x - 0.5 * x)**2).mean()\n",
    "# repr_loss = (((((x - 0.5 * x)**2).T) * masks).T).mean()\n",
    "repr_loss\n",
    "# x[masks == 1].shape"
   ]
  },
  {
   "cell_type": "code",
   "execution_count": 18,
   "metadata": {},
   "outputs": [
    {
     "name": "stdout",
     "output_type": "stream",
     "text": [
      "torch.Size([32, 300])\n",
      "tensor(2298.6267, dtype=torch.float64)\n"
     ]
    }
   ],
   "source": [
    "x = batch[1]\n",
    "w = batch[3]\n",
    "ms = (((x-0.5*x)**2).transpose(0,1) * w).transpose(0,1)\n",
    "print(ms.shape)\n",
    "repr_loss = (ms).mean()\n",
    "print(repr_loss)"
   ]
  },
  {
   "cell_type": "code",
   "execution_count": 24,
   "metadata": {},
   "outputs": [
    {
     "name": "stdout",
     "output_type": "stream",
     "text": [
      "tensor([0.5958, 0.5820, 0.5061, 0.6029, 0.6717, 0.5350, 0.6442, 0.5827, 0.6029,\n",
      "        0.4879, 0.6003, 0.5006, 0.6015, 0.6318, 0.5364, 0.7022, 0.5256, 0.5954,\n",
      "        0.5229, 0.5826, 0.6235, 0.5278, 0.5189, 0.9530, 0.5056, 0.5967, 0.5371,\n",
      "        0.5960, 0.5912, 0.5333, 0.5663, 0.5966, 0.6715, 0.4671, 0.4992, 0.6208,\n",
      "        0.5846, 0.5954, 0.5988, 0.6015, 0.6336, 0.5527, 0.6138, 0.6590, 0.5138,\n",
      "        0.5350, 0.5925, 0.5954, 0.5775, 0.5239, 0.5329, 0.6280, 0.5954, 0.5146,\n",
      "        0.5089, 0.5674, 0.6947, 0.5018, 0.5566, 0.5425, 0.5880, 0.6541, 0.4746,\n",
      "        0.5514, 0.5322, 0.5918, 0.8700, 0.5564, 0.5954, 0.5801, 0.5300, 0.6279,\n",
      "        0.6462, 0.6333, 0.5386, 0.5352, 0.5751, 0.7345, 0.5910, 0.5935, 0.5230,\n",
      "        0.6020, 0.5375, 0.5893, 0.6462, 0.5895, 0.6502, 0.6232, 0.5807, 0.6361,\n",
      "        0.6755, 0.5955, 0.4780, 0.5438, 0.6147, 0.6025, 0.5366, 0.5252, 0.6404,\n",
      "        0.7239, 0.5968, 0.6058, 0.6359, 0.6377, 0.5673, 0.6341, 0.5329, 0.5895,\n",
      "        0.6925, 0.5228, 0.6626, 0.6293, 0.5276, 0.5341, 0.5832, 0.5401, 0.5550,\n",
      "        0.5351, 0.5954, 0.5378, 0.6547, 0.8538, 0.5985, 0.5163, 0.5515, 0.5029,\n",
      "        0.5083, 0.5342, 0.9003, 0.5011, 0.5352, 0.6476, 0.5747, 0.5948, 0.6083,\n",
      "        0.4934, 0.5682, 0.6028, 0.6147, 0.5892, 0.6068, 0.7051, 0.6187, 0.5635,\n",
      "        0.5032, 0.5373, 0.6384, 0.6061, 0.6214, 0.5376, 0.5954, 0.5895, 0.5679,\n",
      "        0.5750, 0.5680, 0.4988, 0.9028, 0.6020, 0.6184, 0.5941, 0.7015, 0.7119,\n",
      "        0.7801, 0.5172, 0.5374, 0.5825, 0.5959, 0.9256, 0.6281, 0.6471, 0.6678,\n",
      "        0.6718, 0.5883, 0.6192, 0.9345, 0.5653, 0.5400, 0.5782, 0.6629, 0.4974,\n",
      "        0.5954, 0.5543, 0.5808, 0.5282, 0.5982, 0.6029, 0.5889, 0.7084, 0.5889,\n",
      "        0.5683, 0.5917, 0.6402, 0.5629, 0.4943, 0.5805, 0.6437, 0.5078, 0.6168,\n",
      "        0.6376, 0.6630, 0.5895, 0.5466, 0.6249, 0.5755, 0.5706, 0.5967, 0.5145,\n",
      "        0.5764, 0.6360, 0.5618, 0.5140, 0.5954, 0.6673, 0.6739, 0.5324, 0.5459,\n",
      "        0.6604, 0.5703, 0.7814, 0.9406, 0.5183, 0.6098, 0.5043, 0.5700, 0.5344,\n",
      "        0.5975, 0.6563, 0.6027, 0.4850, 0.5230, 0.6376, 0.6147, 0.9086, 0.5426,\n",
      "        0.6417, 0.5678, 0.5036, 0.6449, 0.5366, 0.5314, 0.5172, 0.7634, 0.6127,\n",
      "        0.5081, 0.5962, 0.5603, 0.6154, 0.5292, 0.5985, 0.5402, 0.5901, 0.5824,\n",
      "        0.5928, 0.5349, 0.6066, 0.6203, 0.6315, 0.5637, 0.5779, 0.6315, 0.7283,\n",
      "        0.6550, 0.5157, 0.5523, 0.6313, 0.6032, 0.5995, 0.5247, 0.5991, 0.6356,\n",
      "        0.5721, 0.6074, 0.5690, 0.5668, 0.5382, 0.6364, 0.5945, 0.5998, 0.5168,\n",
      "        0.5661, 0.8487, 0.6510, 0.6387, 0.6015, 0.5669, 0.6522, 0.5903, 0.6556,\n",
      "        0.6523, 0.5173, 0.5960, 0.5913, 0.8940, 0.5904, 0.6276, 0.7374, 0.7341,\n",
      "        0.5914, 0.6510, 0.5731, 0.5050, 0.5828, 0.6253, 0.5049, 0.6596, 0.5877,\n",
      "        0.5690, 0.6462, 0.6537, 0.6821, 0.5895, 0.5979, 0.5185, 0.6059, 0.6002,\n",
      "        0.5119, 0.6592, 0.6196, 0.5510, 0.5574, 0.6497, 0.6495, 0.5877, 0.5977,\n",
      "        0.5418, 0.5998, 0.6257, 0.5907, 0.6427, 0.6075, 0.5478, 0.5619, 0.5689,\n",
      "        0.6221, 0.6447, 0.8734, 0.6480, 0.5863, 0.4963, 0.5869, 0.6409, 0.7731,\n",
      "        0.5240, 0.6027, 0.5430, 0.5895, 0.4590, 0.5957, 0.5705, 0.9633, 0.5807,\n",
      "        0.5730, 0.5164, 0.5593, 0.5944, 0.6418, 0.5366, 0.6401, 0.4992, 0.5601,\n",
      "        0.5537, 0.5154, 0.6338, 0.5301, 0.6266, 0.5481, 0.5405, 0.6267, 0.5503,\n",
      "        0.5396, 0.7807, 0.4578, 0.9172, 0.5884, 0.5352, 0.6196, 0.5944, 0.5433,\n",
      "        0.5139, 0.5170, 0.6687, 0.6229, 0.5895, 0.5928, 0.5308, 0.5105, 0.5262,\n",
      "        0.6049, 0.6316, 0.5437, 0.6022, 0.5423, 0.5973, 0.5980, 0.6334, 0.5954,\n",
      "        0.5236, 0.5237, 0.5275, 0.7194, 0.6025, 0.5079, 0.5495, 0.5971, 0.5392,\n",
      "        0.5228, 0.5271, 0.6067, 0.5151, 0.6086, 0.5631, 0.5258, 0.5226, 0.5393,\n",
      "        0.5604, 0.5192, 0.6031, 0.5293, 0.5895, 0.6148, 0.5626, 0.6179, 0.5793,\n",
      "        0.4880, 0.6015, 0.5401, 0.6276, 0.6387, 0.6020, 0.5935, 0.5553, 0.4999,\n",
      "        0.5400, 0.5283, 0.5521, 0.6381, 0.5215, 0.5788, 0.5375, 0.5923, 0.6019,\n",
      "        0.6354, 0.5946, 0.6649, 0.5727, 0.5457, 0.6221, 0.5177, 0.4652, 0.8296,\n",
      "        0.5840, 0.6585, 0.5819, 0.4994, 0.6217, 0.5640, 0.5256, 0.6645, 0.5942,\n",
      "        0.4921, 0.5961, 0.6221, 0.5263, 0.5473, 0.6431, 0.6603, 0.5249, 0.5764,\n",
      "        0.6320, 0.5518, 0.5246, 0.5273, 0.5960, 0.5385, 0.7495, 0.7665, 0.5938,\n",
      "        0.5672, 0.6408, 0.6390, 0.5007, 0.6338, 0.4883, 0.5951, 0.5312, 0.9674,\n",
      "        0.6685, 0.5864, 0.6446, 0.5232, 0.5417, 0.6071, 0.6418, 0.6586, 0.7161,\n",
      "        0.6408, 0.5841, 0.6224, 0.7702, 0.5357, 0.6488, 0.7258, 0.4572, 0.6715,\n",
      "        0.6020, 0.6440, 0.6598, 0.5353, 0.6370, 0.5331, 0.5405, 0.5477],\n",
      "       dtype=torch.float64)\n",
      "torch.Size([300])\n",
      "tensor(0.3093, dtype=torch.float64)\n"
     ]
    }
   ],
   "source": [
    "def weighted_variance(x, weights):\n",
    "    # x.shape should be (batch_size, d), weights.shape should be (batch_size, 1)\n",
    "    ret = torch.clone(x)\n",
    "    mean = x.mean(dim=0)\n",
    "    v_1 = weights.sum()\n",
    "    v_2 = weights.pow(2).sum()\n",
    "    ret = (v_1 / (v_1 ** 2 - v_2)) * (((ret - mean).pow_(2).transpose(0,1) * weights).transpose(0,1)).sum(dim=0)\n",
    "    return ret\n",
    "\n",
    "x = batch[1]\n",
    "x = x - x.mean(dim=0)\n",
    "print(batch[3])\n",
    "# std_x = torch.sqrt(weighted_variance(x, batch[3]) + 0.001)\n",
    "std_x = torch.sqrt(x.var(dim=0) + 0.001)\n",
    "print(std_x.shape)\n",
    "std_loss = torch.mean(F.relu(1 - std_x)) / 2\n",
    "print(std_loss)\n",
    "# cov_x = x.T @ x / 3\n",
    "# print(cov_x.shape)\n",
    "# cov_loss = off_diagonal(cov_x).pow_(2).sum().div(128)\n",
    "# print(cov_loss)"
   ]
  },
  {
   "cell_type": "code",
   "execution_count": 22,
   "metadata": {},
   "outputs": [
    {
     "data": {
      "text/plain": [
       "<matplotlib.image.AxesImage at 0x7f29267fb5c0>"
      ]
     },
     "execution_count": 22,
     "metadata": {},
     "output_type": "execute_result"
    },
    {
     "data": {
      "image/png": "[encoded data removed]",
      "text/plain": [
       "<Figure size 432x288 with 2 Axes>"
      ]
     },
     "metadata": {},
     "output_type": "display_data"
    }
   ],
   "source": [
    "f, axes = plt.subplots(1,2) \n",
    "axes[0].imshow(batch[0][1][4].cpu().detach().numpy(), cmap=plt.cm.gray)\n",
    "axes[1].imshow(batch[0][13][4].cpu().detach().numpy(), cmap=plt.cm.gray)"
   ]
  },
  {
   "cell_type": "code",
   "execution_count": 28,
   "metadata": {},
   "outputs": [
    {
     "name": "stdout",
     "output_type": "stream",
     "text": [
      "joystick space distance: tensor(0.0020, dtype=torch.float64)\n",
      "lidar scan space distance: tensor(0.0240)\n"
     ]
    }
   ],
   "source": [
    "fixed_joy = batch[4]\n",
    "joy1 = fixed_joy[1]\n",
    "joy2 = fixed_joy[13]\n",
    "dist = ((joy1 - joy2)**2).mean()\n",
    "print(\"joystick space distance:\", dist)\n",
    "\n",
    "lid1 = batch[0][1]\n",
    "lid2 = batch[0][13]\n",
    "liddist = ((lid1 - lid2)**2).mean()\n",
    "print(\"lidar scan space distance:\", liddist)"
   ]
  },
  {
   "cell_type": "code",
   "execution_count": 23,
   "metadata": {},
   "outputs": [
    {
     "data": {
      "text/plain": [
       "<matplotlib.image.AxesImage at 0x7f27646a9278>"
      ]
     },
     "execution_count": 23,
     "metadata": {},
     "output_type": "execute_result"
    },
    {
     "data": {
      "image/png": "[encoded data removed]",
      "text/plain": [
       "<Figure size 432x288 with 2 Axes>"
      ]
     },
     "metadata": {},
     "output_type": "display_data"
    }
   ],
   "source": [
    "f, axes = plt.subplots(1,2) \n",
    "axes[0].imshow(batch[0][1][4].cpu().detach().numpy(), cmap=plt.cm.gray)\n",
    "axes[1].imshow(batch[0][2][4].cpu().detach().numpy(), cmap=plt.cm.gray)"
   ]
  },
  {
   "cell_type": "code",
   "execution_count": 29,
   "metadata": {},
   "outputs": [
    {
     "name": "stdout",
     "output_type": "stream",
     "text": [
      "joystick space distance: tensor(0.0435, dtype=torch.float64)\n",
      "lidar scan space distance: tensor(0.0284)\n"
     ]
    }
   ],
   "source": [
    "fixed_joy = batch[4]\n",
    "joy1 = fixed_joy[1]\n",
    "joy2 = fixed_joy[2]\n",
    "dist = ((joy1 - joy2)**2).mean()\n",
    "print(\"joystick space distance:\", dist)\n",
    "\n",
    "lid1 = batch[0][1]\n",
    "lid2 = batch[0][2]\n",
    "liddist = ((lid1 - lid2)**2).mean()\n",
    "print(\"lidar scan space distance:\", liddist)"
   ]
  },
  {
   "cell_type": "code",
   "execution_count": 28,
   "metadata": {},
   "outputs": [
    {
     "data": {
      "text/plain": [
       "tensor(19015.9996, dtype=torch.float64)"
      ]
     },
     "execution_count": 28,
     "metadata": {},
     "output_type": "execute_result"
    },
    {
     "data": {
      "image/png": "[encoded data removed]",
      "text/plain": [
       "<Figure size 432x288 with 1 Axes>"
      ]
     },
     "metadata": {},
     "output_type": "display_data"
    }
   ],
   "source": [
    "bev_lidar_image_initial = batch[0][2][0].cpu().detach().numpy()\n",
    "for i in range(5):\n",
    "    bev_lidar_image = batch[0][2][i].cpu().detach().numpy()\n",
    "    bev_lidar_image_initial = cv2.addWeighted(bev_lidar_image_initial,1,bev_lidar_image,np.power(0.9,i*4),0)\n",
    "plt.imshow(bev_lidar_image_initial, cmap=plt.cm.gray)\n",
    "batch[1][2].var()"
   ]
  },
  {
   "cell_type": "code",
   "execution_count": 7,
   "metadata": {},
   "outputs": [
    {
     "name": "stdout",
     "output_type": "stream",
     "text": [
      "torch.Size([128, 225, 128])\n",
      "torch.Size([128, 128])\n",
      "torch.Size([128, 1, 128])\n",
      "torch.Size([128, 1, 128])\n",
      "torch.Size([128, 226, 128])\n"
     ]
    }
   ],
   "source": [
    "from social_nav_rep_learning import SNNetwork\n",
    "\n",
    "encoder = SNNetwork(batch[1].shape[1], 240, 5, 16)\n",
    "print(encoder.patch_embed(batch[0].float()).shape)\n",
    "goal_embed = encoder.goal_embed(batch[2].float())\n",
    "print(goal_embed.shape)\n",
    "print(goal_embed.unsqueeze(1).shape)\n",
    "img_batch = encoder.patch_embed(batch[0].float())\n",
    "cls_token = encoder.cls_token.expand(batch[1].shape[0], -1, -1)\n",
    "print(cls_token.shape)\n",
    "img_batch = torch.cat((cls_token, img_batch), dim=1)\n",
    "print(img_batch.shape)\n",
    "\n",
    "preds = encoder(batch[0].float(), batch[1].float(), batch[2].float())"
   ]
  },
  {
   "cell_type": "code",
   "execution_count": 19,
   "metadata": {},
   "outputs": [
    {
     "name": "stdout",
     "output_type": "stream",
     "text": [
      "torch.Size([128, 8, 227, 227])\n",
      "torch.Size([8, 225])\n",
      "torch.Size([8, 15, 15])\n",
      "(8, 240, 240)\n"
     ]
    },
    {
     "data": {
      "text/plain": [
       "<matplotlib.image.AxesImage at 0x7fb180ba1080>"
      ]
     },
     "execution_count": 19,
     "metadata": {},
     "output_type": "execute_result"
    },
    {
     "data": {
      "image/png": "[encoded data removed]",
      "text/plain": [
       "<Figure size 432x288 with 1 Axes>"
      ]
     },
     "metadata": {},
     "output_type": "display_data"
    }
   ],
   "source": [
    "attentions = encoder.get_last_selfattention(batch[0].float(),batch[2].float())\n",
    "print(attentions.shape)\n",
    "nh = attentions.shape[1]\n",
    "attentions = attentions[2, :, 0, 1:-1].reshape(nh, -1)\n",
    "print(attentions.shape)\n",
    "numfeat = batch[0].shape[-1] // 16\n",
    "attentions = attentions.reshape(8, 240//16, 240//16)\n",
    "print(attentions.shape)\n",
    "attentions = nn.functional.interpolate(attentions.unsqueeze(0), scale_factor=16, mode=\"nearest\")[0].cpu().detach().numpy()\n",
    "print(attentions.shape)\n",
    "plt.imshow(attentions[0], cmap=plt.cm.gray)"
   ]
  },
  {
   "cell_type": "code",
   "execution_count": 9,
   "metadata": {},
   "outputs": [
    {
     "name": "stdout",
     "output_type": "stream",
     "text": [
      "tensor([[0.8006, 0.8211, 0.1849, 0.2454],\n",
      "        [0.8230, 0.4263, 0.1540, 0.3580],\n",
      "        [0.2750, 0.6491, 0.0663, 0.5137],\n",
      "        [0.1071, 0.5331, 0.0574, 0.2680]])\n",
      "tensor([[0.8006, 0.8211, 0.1849, 0.2454, 0.8230],\n",
      "        [0.4263, 0.1540, 0.3580, 0.2750, 0.6491],\n",
      "        [0.0663, 0.5137, 0.1071, 0.5331, 0.0574]])\n",
      "tensor([0.8211, 0.1849, 0.2454, 0.8230, 0.1540, 0.3580, 0.2750, 0.6491, 0.5137,\n",
      "        0.1071, 0.5331, 0.0574])\n"
     ]
    }
   ],
   "source": [
    "from barlow_twins import off_diagonal\n",
    "x = torch.rand(4,4)\n",
    "print(x)\n",
    "print(x.flatten()[:-1].view(3, 5))\n",
    "print(off_diagonal(x))"
   ]
  },
  {
   "cell_type": "code",
   "execution_count": 5,
   "metadata": {},
   "outputs": [
    {
     "name": "stdout",
     "output_type": "stream",
     "text": [
      "True\n",
      "2\n",
      "torch.Size([128, 128])\n",
      "cls_token \t tensor([[[0., 0., 0., 0., 0., 0., 0., 0., 0., 0., 0., 0., 0., 0., 0., 0., 0., 0., 0., 0., 0., 0., 0.,\n",
      "          0., 0., 0., 0., 0., 0., 0., 0., 0., 0., 0., 0., 0., 0., 0., 0., 0., 0., 0., 0., 0., 0., 0.,\n",
      "          0., 0., 0., 0., 0., 0., 0., 0., 0., 0., 0., 0., 0., 0., 0., 0., 0., 0., 0., 0., 0., 0., 0.,\n",
      "          0., 0., 0., 0., 0., 0., 0., 0., 0., 0., 0., 0., 0., 0., 0., 0., 0., 0., 0., 0., 0., 0., 0.,\n",
      "          0., 0., 0., 0., 0., 0., 0., 0., 0., 0., 0., 0., 0., 0., 0., 0., 0., 0., 0., 0., 0., 0., 0.,\n",
      "          0., 0., 0., 0., 0., 0., 0., 0., 0., 0., 0., 0., 0.]]])\n"
     ]
    }
   ],
   "source": [
    "print(preds[0].shape==preds[1].shape)\n",
    "# batch size\n",
    "print(preds[0].shape[0])\n",
    "print((preds[0].T @ preds[1]).shape)\n",
    "for param_tensor in encoder.state_dict():\n",
    "    print(param_tensor, \"\\t\", encoder.state_dict()[param_tensor])\n",
    "    break"
   ]
  },
  {
   "cell_type": "code",
   "execution_count": 3,
   "metadata": {},
   "outputs": [
    {
     "name": "stdout",
     "output_type": "stream",
     "text": [
      "(5, 401, 401)\n",
      "(5, 240, 240)\n"
     ]
    }
   ],
   "source": [
    "from skimage.measure import block_reduce\n",
    "image = np.arange(5*401*401).reshape(5, 401, 401)\n",
    "print(image.shape)\n",
    "image = image[:, 80:320, 80:320]\n",
    "# means = block_reduce(image, block_size=(1, 4, 4), func=np.mean)\n",
    "# print(means.shape)\n",
    "# vars = block_reduce(image, block_size=(1, 4, 4), func=np.var)\n",
    "# image = np.concatenate((means, vars), axis=0)\n",
    "print(image.shape)"
   ]
  },
  {
   "cell_type": "code",
   "execution_count": 2,
   "metadata": {},
   "outputs": [
    {
     "name": "stderr",
     "output_type": "stream",
     "text": [
      "/home/fulinj/.local/lib/python3.6/site-packages/matplotlib/cbook/__init__.py:2265: FutureWarning: elementwise comparison failed; returning scalar instead, but in the future will perform elementwise comparison\n",
      "  if v not in values:\n"
     ]
    },
    {
     "ename": "ValueError",
     "evalue": "array([[0, 0, 0, ..., 0, 0, 0],\n       [0, 0, 0, ..., 0, 0, 0],\n       [0, 0, 0, ..., 0, 0, 0],\n       ...,\n       [0, 0, 0, ..., 0, 0, 0],\n       [0, 0, 0, ..., 0, 0, 0],\n       [0, 0, 0, ..., 0, 0, 0]], dtype=uint8) is not a valid value for name; supported values are 'Accent', 'Accent_r', 'Blues', 'Blues_r', 'BrBG', 'BrBG_r', 'BuGn', 'BuGn_r', 'BuPu', 'BuPu_r', 'CMRmap', 'CMRmap_r', 'Dark2', 'Dark2_r', 'GnBu', 'GnBu_r', 'Greens', 'Greens_r', 'Greys', 'Greys_r', 'OrRd', 'OrRd_r', 'Oranges', 'Oranges_r', 'PRGn', 'PRGn_r', 'Paired', 'Paired_r', 'Pastel1', 'Pastel1_r', 'Pastel2', 'Pastel2_r', 'PiYG', 'PiYG_r', 'PuBu', 'PuBuGn', 'PuBuGn_r', 'PuBu_r', 'PuOr', 'PuOr_r', 'PuRd', 'PuRd_r', 'Purples', 'Purples_r', 'RdBu', 'RdBu_r', 'RdGy', 'RdGy_r', 'RdPu', 'RdPu_r', 'RdYlBu', 'RdYlBu_r', 'RdYlGn', 'RdYlGn_r', 'Reds', 'Reds_r', 'Set1', 'Set1_r', 'Set2', 'Set2_r', 'Set3', 'Set3_r', 'Spectral', 'Spectral_r', 'Wistia', 'Wistia_r', 'YlGn', 'YlGnBu', 'YlGnBu_r', 'YlGn_r', 'YlOrBr', 'YlOrBr_r', 'YlOrRd', 'YlOrRd_r', 'afmhot', 'afmhot_r', 'autumn', 'autumn_r', 'binary', 'binary_r', 'bone', 'bone_r', 'brg', 'brg_r', 'bwr', 'bwr_r', 'cividis', 'cividis_r', 'cool', 'cool_r', 'coolwarm', 'coolwarm_r', 'copper', 'copper_r', 'cubehelix', 'cubehelix_r', 'flag', 'flag_r', 'gist_earth', 'gist_earth_r', 'gist_gray', 'gist_gray_r', 'gist_heat', 'gist_heat_r', 'gist_ncar', 'gist_ncar_r', 'gist_rainbow', 'gist_rainbow_r', 'gist_stern', 'gist_stern_r', 'gist_yarg', 'gist_yarg_r', 'gnuplot', 'gnuplot2', 'gnuplot2_r', 'gnuplot_r', 'gray', 'gray_r', 'hot', 'hot_r', 'hsv', 'hsv_r', 'inferno', 'inferno_r', 'jet', 'jet_r', 'magma', 'magma_r', 'nipy_spectral', 'nipy_spectral_r', 'ocean', 'ocean_r', 'pink', 'pink_r', 'plasma', 'plasma_r', 'prism', 'prism_r', 'rainbow', 'rainbow_r', 'seismic', 'seismic_r', 'spring', 'spring_r', 'summer', 'summer_r', 'tab10', 'tab10_r', 'tab20', 'tab20_r', 'tab20b', 'tab20b_r', 'tab20c', 'tab20c_r', 'terrain', 'terrain_r', 'turbo', 'turbo_r', 'twilight', 'twilight_r', 'twilight_shifted', 'twilight_shifted_r', 'viridis', 'viridis_r', 'winter', 'winter_r'",
     "output_type": "error",
     "traceback": [
      "\u001b[0;31m---------------------------------------------------------------------------\u001b[0m",
      "\u001b[0;31mValueError\u001b[0m                                Traceback (most recent call last)",
      "\u001b[0;32m<ipython-input-2-5eb9e3872428>\u001b[0m in \u001b[0;36m<module>\u001b[0;34m()\u001b[0m\n\u001b[1;32m     40\u001b[0m \u001b[0;31m#     bev_lidar_image = cv2.circle(\u001b[0m\u001b[0;34m\u001b[0m\u001b[0;34m\u001b[0m\u001b[0;34m\u001b[0m\u001b[0m\n\u001b[1;32m     41\u001b[0m \u001b[0;31m#         bev_lidar_image, (t_f_pixels[0], t_f_pixels[1]), 1, (0, 0, 255), -1)\u001b[0m\u001b[0;34m\u001b[0m\u001b[0;34m\u001b[0m\u001b[0;34m\u001b[0m\u001b[0m\n\u001b[0;32m---> 42\u001b[0;31m \u001b[0mplt\u001b[0m\u001b[0;34m.\u001b[0m\u001b[0mimshow\u001b[0m\u001b[0;34m(\u001b[0m\u001b[0;34m'bev_lidar'\u001b[0m\u001b[0;34m,\u001b[0m \u001b[0mbev_lidar_image\u001b[0m\u001b[0;34m)\u001b[0m\u001b[0;34m\u001b[0m\u001b[0;34m\u001b[0m\u001b[0m\n\u001b[0m",
      "\u001b[0;32m/home/fulinj/.local/lib/python3.6/site-packages/matplotlib/pyplot.py\u001b[0m in \u001b[0;36mimshow\u001b[0;34m(X, cmap, norm, aspect, interpolation, alpha, vmin, vmax, origin, extent, filternorm, filterrad, resample, url, data, **kwargs)\u001b[0m\n\u001b[1;32m   2728\u001b[0m         \u001b[0mfilternorm\u001b[0m\u001b[0;34m=\u001b[0m\u001b[0mfilternorm\u001b[0m\u001b[0;34m,\u001b[0m \u001b[0mfilterrad\u001b[0m\u001b[0;34m=\u001b[0m\u001b[0mfilterrad\u001b[0m\u001b[0;34m,\u001b[0m \u001b[0mresample\u001b[0m\u001b[0;34m=\u001b[0m\u001b[0mresample\u001b[0m\u001b[0;34m,\u001b[0m\u001b[0;34m\u001b[0m\u001b[0;34m\u001b[0m\u001b[0m\n\u001b[1;32m   2729\u001b[0m         \u001b[0murl\u001b[0m\u001b[0;34m=\u001b[0m\u001b[0murl\u001b[0m\u001b[0;34m,\u001b[0m \u001b[0;34m**\u001b[0m\u001b[0;34m(\u001b[0m\u001b[0;34m{\u001b[0m\u001b[0;34m\"data\"\u001b[0m\u001b[0;34m:\u001b[0m \u001b[0mdata\u001b[0m\u001b[0;34m}\u001b[0m \u001b[0;32mif\u001b[0m \u001b[0mdata\u001b[0m \u001b[0;32mis\u001b[0m \u001b[0;32mnot\u001b[0m \u001b[0;32mNone\u001b[0m \u001b[0;32melse\u001b[0m \u001b[0;34m{\u001b[0m\u001b[0;34m}\u001b[0m\u001b[0;34m)\u001b[0m\u001b[0;34m,\u001b[0m\u001b[0;34m\u001b[0m\u001b[0;34m\u001b[0m\u001b[0m\n\u001b[0;32m-> 2730\u001b[0;31m         **kwargs)\n\u001b[0m\u001b[1;32m   2731\u001b[0m     \u001b[0msci\u001b[0m\u001b[0;34m(\u001b[0m\u001b[0m__ret\u001b[0m\u001b[0;34m)\u001b[0m\u001b[0;34m\u001b[0m\u001b[0;34m\u001b[0m\u001b[0m\n\u001b[1;32m   2732\u001b[0m     \u001b[0;32mreturn\u001b[0m \u001b[0m__ret\u001b[0m\u001b[0;34m\u001b[0m\u001b[0;34m\u001b[0m\u001b[0m\n",
      "\u001b[0;32m/home/fulinj/.local/lib/python3.6/site-packages/matplotlib/__init__.py\u001b[0m in \u001b[0;36minner\u001b[0;34m(ax, data, *args, **kwargs)\u001b[0m\n\u001b[1;32m   1445\u001b[0m     \u001b[0;32mdef\u001b[0m \u001b[0minner\u001b[0m\u001b[0;34m(\u001b[0m\u001b[0max\u001b[0m\u001b[0;34m,\u001b[0m \u001b[0;34m*\u001b[0m\u001b[0margs\u001b[0m\u001b[0;34m,\u001b[0m \u001b[0mdata\u001b[0m\u001b[0;34m=\u001b[0m\u001b[0;32mNone\u001b[0m\u001b[0;34m,\u001b[0m \u001b[0;34m**\u001b[0m\u001b[0mkwargs\u001b[0m\u001b[0;34m)\u001b[0m\u001b[0;34m:\u001b[0m\u001b[0;34m\u001b[0m\u001b[0;34m\u001b[0m\u001b[0m\n\u001b[1;32m   1446\u001b[0m         \u001b[0;32mif\u001b[0m \u001b[0mdata\u001b[0m \u001b[0;32mis\u001b[0m \u001b[0;32mNone\u001b[0m\u001b[0;34m:\u001b[0m\u001b[0;34m\u001b[0m\u001b[0;34m\u001b[0m\u001b[0m\n\u001b[0;32m-> 1447\u001b[0;31m             \u001b[0;32mreturn\u001b[0m \u001b[0mfunc\u001b[0m\u001b[0;34m(\u001b[0m\u001b[0max\u001b[0m\u001b[0;34m,\u001b[0m \u001b[0;34m*\u001b[0m\u001b[0mmap\u001b[0m\u001b[0;34m(\u001b[0m\u001b[0msanitize_sequence\u001b[0m\u001b[0;34m,\u001b[0m \u001b[0margs\u001b[0m\u001b[0;34m)\u001b[0m\u001b[0;34m,\u001b[0m \u001b[0;34m**\u001b[0m\u001b[0mkwargs\u001b[0m\u001b[0;34m)\u001b[0m\u001b[0;34m\u001b[0m\u001b[0;34m\u001b[0m\u001b[0m\n\u001b[0m\u001b[1;32m   1448\u001b[0m \u001b[0;34m\u001b[0m\u001b[0m\n\u001b[1;32m   1449\u001b[0m         \u001b[0mbound\u001b[0m \u001b[0;34m=\u001b[0m \u001b[0mnew_sig\u001b[0m\u001b[0;34m.\u001b[0m\u001b[0mbind\u001b[0m\u001b[0;34m(\u001b[0m\u001b[0max\u001b[0m\u001b[0;34m,\u001b[0m \u001b[0;34m*\u001b[0m\u001b[0margs\u001b[0m\u001b[0;34m,\u001b[0m \u001b[0;34m**\u001b[0m\u001b[0mkwargs\u001b[0m\u001b[0;34m)\u001b[0m\u001b[0;34m\u001b[0m\u001b[0;34m\u001b[0m\u001b[0m\n",
      "\u001b[0;32m/home/fulinj/.local/lib/python3.6/site-packages/matplotlib/axes/_axes.py\u001b[0m in \u001b[0;36mimshow\u001b[0;34m(self, X, cmap, norm, aspect, interpolation, alpha, vmin, vmax, origin, extent, filternorm, filterrad, resample, url, **kwargs)\u001b[0m\n\u001b[1;32m   5519\u001b[0m         im = mimage.AxesImage(self, cmap, norm, interpolation, origin, extent,\n\u001b[1;32m   5520\u001b[0m                               \u001b[0mfilternorm\u001b[0m\u001b[0;34m=\u001b[0m\u001b[0mfilternorm\u001b[0m\u001b[0;34m,\u001b[0m \u001b[0mfilterrad\u001b[0m\u001b[0;34m=\u001b[0m\u001b[0mfilterrad\u001b[0m\u001b[0;34m,\u001b[0m\u001b[0;34m\u001b[0m\u001b[0;34m\u001b[0m\u001b[0m\n\u001b[0;32m-> 5521\u001b[0;31m                               resample=resample, **kwargs)\n\u001b[0m\u001b[1;32m   5522\u001b[0m \u001b[0;34m\u001b[0m\u001b[0m\n\u001b[1;32m   5523\u001b[0m         \u001b[0mim\u001b[0m\u001b[0;34m.\u001b[0m\u001b[0mset_data\u001b[0m\u001b[0;34m(\u001b[0m\u001b[0mX\u001b[0m\u001b[0;34m)\u001b[0m\u001b[0;34m\u001b[0m\u001b[0;34m\u001b[0m\u001b[0m\n",
      "\u001b[0;32m/home/fulinj/.local/lib/python3.6/site-packages/matplotlib/image.py\u001b[0m in \u001b[0;36m__init__\u001b[0;34m(self, ax, cmap, norm, interpolation, origin, extent, filternorm, filterrad, resample, **kwargs)\u001b[0m\n\u001b[1;32m    909\u001b[0m             \u001b[0mfilterrad\u001b[0m\u001b[0;34m=\u001b[0m\u001b[0mfilterrad\u001b[0m\u001b[0;34m,\u001b[0m\u001b[0;34m\u001b[0m\u001b[0;34m\u001b[0m\u001b[0m\n\u001b[1;32m    910\u001b[0m             \u001b[0mresample\u001b[0m\u001b[0;34m=\u001b[0m\u001b[0mresample\u001b[0m\u001b[0;34m,\u001b[0m\u001b[0;34m\u001b[0m\u001b[0;34m\u001b[0m\u001b[0m\n\u001b[0;32m--> 911\u001b[0;31m             \u001b[0;34m**\u001b[0m\u001b[0mkwargs\u001b[0m\u001b[0;34m\u001b[0m\u001b[0;34m\u001b[0m\u001b[0m\n\u001b[0m\u001b[1;32m    912\u001b[0m         )\n\u001b[1;32m    913\u001b[0m \u001b[0;34m\u001b[0m\u001b[0m\n",
      "\u001b[0;32m/home/fulinj/.local/lib/python3.6/site-packages/matplotlib/image.py\u001b[0m in \u001b[0;36m__init__\u001b[0;34m(self, ax, cmap, norm, interpolation, origin, filternorm, filterrad, resample, **kwargs)\u001b[0m\n\u001b[1;32m    241\u001b[0m                  ):\n\u001b[1;32m    242\u001b[0m         \u001b[0mmartist\u001b[0m\u001b[0;34m.\u001b[0m\u001b[0mArtist\u001b[0m\u001b[0;34m.\u001b[0m\u001b[0m__init__\u001b[0m\u001b[0;34m(\u001b[0m\u001b[0mself\u001b[0m\u001b[0;34m)\u001b[0m\u001b[0;34m\u001b[0m\u001b[0;34m\u001b[0m\u001b[0m\n\u001b[0;32m--> 243\u001b[0;31m         \u001b[0mcm\u001b[0m\u001b[0;34m.\u001b[0m\u001b[0mScalarMappable\u001b[0m\u001b[0;34m.\u001b[0m\u001b[0m__init__\u001b[0m\u001b[0;34m(\u001b[0m\u001b[0mself\u001b[0m\u001b[0;34m,\u001b[0m \u001b[0mnorm\u001b[0m\u001b[0;34m,\u001b[0m \u001b[0mcmap\u001b[0m\u001b[0;34m)\u001b[0m\u001b[0;34m\u001b[0m\u001b[0;34m\u001b[0m\u001b[0m\n\u001b[0m\u001b[1;32m    244\u001b[0m         \u001b[0;32mif\u001b[0m \u001b[0morigin\u001b[0m \u001b[0;32mis\u001b[0m \u001b[0;32mNone\u001b[0m\u001b[0;34m:\u001b[0m\u001b[0;34m\u001b[0m\u001b[0;34m\u001b[0m\u001b[0m\n\u001b[1;32m    245\u001b[0m             \u001b[0morigin\u001b[0m \u001b[0;34m=\u001b[0m \u001b[0mmpl\u001b[0m\u001b[0;34m.\u001b[0m\u001b[0mrcParams\u001b[0m\u001b[0;34m[\u001b[0m\u001b[0;34m'image.origin'\u001b[0m\u001b[0;34m]\u001b[0m\u001b[0;34m\u001b[0m\u001b[0;34m\u001b[0m\u001b[0m\n",
      "\u001b[0;32m/home/fulinj/.local/lib/python3.6/site-packages/matplotlib/cm.py\u001b[0m in \u001b[0;36m__init__\u001b[0;34m(self, norm, cmap)\u001b[0m\n\u001b[1;32m    234\u001b[0m         \u001b[0mself\u001b[0m\u001b[0;34m.\u001b[0m\u001b[0mset_norm\u001b[0m\u001b[0;34m(\u001b[0m\u001b[0mnorm\u001b[0m\u001b[0;34m)\u001b[0m  \u001b[0;31m# The Normalize instance of this ScalarMappable.\u001b[0m\u001b[0;34m\u001b[0m\u001b[0;34m\u001b[0m\u001b[0m\n\u001b[1;32m    235\u001b[0m         \u001b[0mself\u001b[0m\u001b[0;34m.\u001b[0m\u001b[0mcmap\u001b[0m \u001b[0;34m=\u001b[0m \u001b[0;32mNone\u001b[0m  \u001b[0;31m# So that the setter knows we're initializing.\u001b[0m\u001b[0;34m\u001b[0m\u001b[0;34m\u001b[0m\u001b[0m\n\u001b[0;32m--> 236\u001b[0;31m         \u001b[0mself\u001b[0m\u001b[0;34m.\u001b[0m\u001b[0mset_cmap\u001b[0m\u001b[0;34m(\u001b[0m\u001b[0mcmap\u001b[0m\u001b[0;34m)\u001b[0m  \u001b[0;31m# The Colormap instance of this ScalarMappable.\u001b[0m\u001b[0;34m\u001b[0m\u001b[0;34m\u001b[0m\u001b[0m\n\u001b[0m\u001b[1;32m    237\u001b[0m         \u001b[0;31m#: The last colorbar associated with this ScalarMappable. May be None.\u001b[0m\u001b[0;34m\u001b[0m\u001b[0;34m\u001b[0m\u001b[0;34m\u001b[0m\u001b[0m\n\u001b[1;32m    238\u001b[0m         \u001b[0mself\u001b[0m\u001b[0;34m.\u001b[0m\u001b[0mcolorbar\u001b[0m \u001b[0;34m=\u001b[0m \u001b[0;32mNone\u001b[0m\u001b[0;34m\u001b[0m\u001b[0;34m\u001b[0m\u001b[0m\n",
      "\u001b[0;32m/home/fulinj/.local/lib/python3.6/site-packages/matplotlib/cm.py\u001b[0m in \u001b[0;36mset_cmap\u001b[0;34m(self, cmap)\u001b[0m\n\u001b[1;32m    403\u001b[0m         \"\"\"\n\u001b[1;32m    404\u001b[0m         \u001b[0min_init\u001b[0m \u001b[0;34m=\u001b[0m \u001b[0mself\u001b[0m\u001b[0;34m.\u001b[0m\u001b[0mcmap\u001b[0m \u001b[0;32mis\u001b[0m \u001b[0;32mNone\u001b[0m\u001b[0;34m\u001b[0m\u001b[0;34m\u001b[0m\u001b[0m\n\u001b[0;32m--> 405\u001b[0;31m         \u001b[0mcmap\u001b[0m \u001b[0;34m=\u001b[0m \u001b[0mget_cmap\u001b[0m\u001b[0;34m(\u001b[0m\u001b[0mcmap\u001b[0m\u001b[0;34m)\u001b[0m\u001b[0;34m\u001b[0m\u001b[0;34m\u001b[0m\u001b[0m\n\u001b[0m\u001b[1;32m    406\u001b[0m         \u001b[0mself\u001b[0m\u001b[0;34m.\u001b[0m\u001b[0mcmap\u001b[0m \u001b[0;34m=\u001b[0m \u001b[0mcmap\u001b[0m\u001b[0;34m\u001b[0m\u001b[0;34m\u001b[0m\u001b[0m\n\u001b[1;32m    407\u001b[0m         \u001b[0;32mif\u001b[0m \u001b[0;32mnot\u001b[0m \u001b[0min_init\u001b[0m\u001b[0;34m:\u001b[0m\u001b[0;34m\u001b[0m\u001b[0;34m\u001b[0m\u001b[0m\n",
      "\u001b[0;32m/home/fulinj/.local/lib/python3.6/site-packages/matplotlib/cm.py\u001b[0m in \u001b[0;36mget_cmap\u001b[0;34m(name, lut)\u001b[0m\n\u001b[1;32m    202\u001b[0m     \u001b[0;32mif\u001b[0m \u001b[0misinstance\u001b[0m\u001b[0;34m(\u001b[0m\u001b[0mname\u001b[0m\u001b[0;34m,\u001b[0m \u001b[0mcolors\u001b[0m\u001b[0;34m.\u001b[0m\u001b[0mColormap\u001b[0m\u001b[0;34m)\u001b[0m\u001b[0;34m:\u001b[0m\u001b[0;34m\u001b[0m\u001b[0;34m\u001b[0m\u001b[0m\n\u001b[1;32m    203\u001b[0m         \u001b[0;32mreturn\u001b[0m \u001b[0mname\u001b[0m\u001b[0;34m\u001b[0m\u001b[0;34m\u001b[0m\u001b[0m\n\u001b[0;32m--> 204\u001b[0;31m     \u001b[0mcbook\u001b[0m\u001b[0;34m.\u001b[0m\u001b[0m_check_in_list\u001b[0m\u001b[0;34m(\u001b[0m\u001b[0msorted\u001b[0m\u001b[0;34m(\u001b[0m\u001b[0m_cmap_registry\u001b[0m\u001b[0;34m)\u001b[0m\u001b[0;34m,\u001b[0m \u001b[0mname\u001b[0m\u001b[0;34m=\u001b[0m\u001b[0mname\u001b[0m\u001b[0;34m)\u001b[0m\u001b[0;34m\u001b[0m\u001b[0;34m\u001b[0m\u001b[0m\n\u001b[0m\u001b[1;32m    205\u001b[0m     \u001b[0;32mif\u001b[0m \u001b[0mlut\u001b[0m \u001b[0;32mis\u001b[0m \u001b[0;32mNone\u001b[0m\u001b[0;34m:\u001b[0m\u001b[0;34m\u001b[0m\u001b[0;34m\u001b[0m\u001b[0m\n\u001b[1;32m    206\u001b[0m         \u001b[0;32mreturn\u001b[0m \u001b[0m_cmap_registry\u001b[0m\u001b[0;34m[\u001b[0m\u001b[0mname\u001b[0m\u001b[0;34m]\u001b[0m\u001b[0;34m\u001b[0m\u001b[0;34m\u001b[0m\u001b[0m\n",
      "\u001b[0;32m/home/fulinj/.local/lib/python3.6/site-packages/matplotlib/cbook/__init__.py\u001b[0m in \u001b[0;36m_check_in_list\u001b[0;34m(_values, **kwargs)\u001b[0m\n\u001b[1;32m   2266\u001b[0m             raise ValueError(\n\u001b[1;32m   2267\u001b[0m                 \u001b[0;34m\"{!r} is not a valid value for {}; supported values are {}\"\u001b[0m\u001b[0;34m\u001b[0m\u001b[0;34m\u001b[0m\u001b[0m\n\u001b[0;32m-> 2268\u001b[0;31m                 .format(v, k, ', '.join(map(repr, values))))\n\u001b[0m\u001b[1;32m   2269\u001b[0m \u001b[0;34m\u001b[0m\u001b[0m\n\u001b[1;32m   2270\u001b[0m \u001b[0;34m\u001b[0m\u001b[0m\n",
      "\u001b[0;31mValueError\u001b[0m: array([[0, 0, 0, ..., 0, 0, 0],\n       [0, 0, 0, ..., 0, 0, 0],\n       [0, 0, 0, ..., 0, 0, 0],\n       ...,\n       [0, 0, 0, ..., 0, 0, 0],\n       [0, 0, 0, ..., 0, 0, 0],\n       [0, 0, 0, ..., 0, 0, 0]], dtype=uint8) is not a valid value for name; supported values are 'Accent', 'Accent_r', 'Blues', 'Blues_r', 'BrBG', 'BrBG_r', 'BuGn', 'BuGn_r', 'BuPu', 'BuPu_r', 'CMRmap', 'CMRmap_r', 'Dark2', 'Dark2_r', 'GnBu', 'GnBu_r', 'Greens', 'Greens_r', 'Greys', 'Greys_r', 'OrRd', 'OrRd_r', 'Oranges', 'Oranges_r', 'PRGn', 'PRGn_r', 'Paired', 'Paired_r', 'Pastel1', 'Pastel1_r', 'Pastel2', 'Pastel2_r', 'PiYG', 'PiYG_r', 'PuBu', 'PuBuGn', 'PuBuGn_r', 'PuBu_r', 'PuOr', 'PuOr_r', 'PuRd', 'PuRd_r', 'Purples', 'Purples_r', 'RdBu', 'RdBu_r', 'RdGy', 'RdGy_r', 'RdPu', 'RdPu_r', 'RdYlBu', 'RdYlBu_r', 'RdYlGn', 'RdYlGn_r', 'Reds', 'Reds_r', 'Set1', 'Set1_r', 'Set2', 'Set2_r', 'Set3', 'Set3_r', 'Spectral', 'Spectral_r', 'Wistia', 'Wistia_r', 'YlGn', 'YlGnBu', 'YlGnBu_r', 'YlGn_r', 'YlOrBr', 'YlOrBr_r', 'YlOrRd', 'YlOrRd_r', 'afmhot', 'afmhot_r', 'autumn', 'autumn_r', 'binary', 'binary_r', 'bone', 'bone_r', 'brg', 'brg_r', 'bwr', 'bwr_r', 'cividis', 'cividis_r', 'cool', 'cool_r', 'coolwarm', 'coolwarm_r', 'copper', 'copper_r', 'cubehelix', 'cubehelix_r', 'flag', 'flag_r', 'gist_earth', 'gist_earth_r', 'gist_gray', 'gist_gray_r', 'gist_heat', 'gist_heat_r', 'gist_ncar', 'gist_ncar_r', 'gist_rainbow', 'gist_rainbow_r', 'gist_stern', 'gist_stern_r', 'gist_yarg', 'gist_yarg_r', 'gnuplot', 'gnuplot2', 'gnuplot2_r', 'gnuplot_r', 'gray', 'gray_r', 'hot', 'hot_r', 'hsv', 'hsv_r', 'inferno', 'inferno_r', 'jet', 'jet_r', 'magma', 'magma_r', 'nipy_spectral', 'nipy_spectral_r', 'ocean', 'ocean_r', 'pink', 'pink_r', 'plasma', 'plasma_r', 'prism', 'prism_r', 'rainbow', 'rainbow_r', 'seismic', 'seismic_r', 'spring', 'spring_r', 'summer', 'summer_r', 'tab10', 'tab10_r', 'tab20', 'tab20_r', 'tab20b', 'tab20b_r', 'tab20c', 'tab20c_r', 'terrain', 'terrain_r', 'turbo', 'turbo_r', 'twilight', 'twilight_r', 'twilight_shifted', 'twilight_shifted_r', 'viridis', 'viridis_r', 'winter', 'winter_r'"
     ]
    },
    {
     "data": {
      "image/png": "[encoded data removed]",
      "text/plain": [
       "<Figure size 432x288 with 1 Axes>"
      ]
     },
     "metadata": {},
     "output_type": "display_data"
    }
   ],
   "source": [
    "import os\n",
    "import argparse\n",
    "import glob\n",
    "import numpy as np\n",
    "import pickle\n",
    "import cv2\n",
    "from termcolor import cprint\n",
    "from tqdm import tqdm\n",
    "from PIL import Image\n",
    "from scipy.spatial.transform import Rotation as R\n",
    "import matplotlib.pyplot as plt\n",
    "\n",
    "def get_affine_mat(x, y, theta):\n",
    "    \"\"\"\n",
    "    Returns the affine transformation matrix for the given parameters.\n",
    "    \"\"\"\n",
    "    theta = np.deg2rad(theta)\n",
    "    return np.array([[np.cos(theta), -np.sin(theta), x],\n",
    "                     [np.sin(theta), np.cos(theta), y],\n",
    "                     [0, 0, 1]])\n",
    "\n",
    "\n",
    "def get_affine_matrix_quat(x, y, quaternion):\n",
    "    theta = R.from_quat(quaternion).as_euler('XYZ')[2]\n",
    "    return np.array([[np.cos(theta), -np.sin(theta), x],\n",
    "                     [np.sin(theta), np.cos(theta), y],\n",
    "                     [0, 0, 1]])\n",
    "data = pickle.load(open('./test/011-13-38_visualize_final.pkl', 'rb'))\n",
    "\n",
    "bev_lidar_image = np.array(Image.open(os.path.join('./test/011-13-38_visualize_final/', f'{1}.png')))\n",
    "# bev_lidar_image = cv2.cvtColor(bev_lidar_image, cv2.COLOR_GRAY2BGR)\n",
    "# T_odom_robot = get_affine_matrix_quat(data['odom'][-1][0], data['odom'][-1][1], data['odom'][-1][2])\n",
    "# for goal in data['human_expert_odom'][-1][:200]:\n",
    "#     T_odom_goal = get_affine_matrix_quat(goal[0], goal[1], goal[2])\n",
    "#     T_robot_goal = np.matmul(\n",
    "#         np.linalg.pinv(T_odom_robot), T_odom_goal)\n",
    "#     T_c_f = [T_robot_goal[0, 2], T_robot_goal[1, 2]]\n",
    "#     t_f_pixels = [int(T_c_f[0] / 0.05) + 200,\n",
    "#                 int(-T_c_f[1] / 0.05) + 200]\n",
    "#     bev_lidar_image = cv2.circle(\n",
    "#         bev_lidar_image, (t_f_pixels[0], t_f_pixels[1]), 1, (0, 0, 255), -1)\n",
    "# cv2.imshow('bev_lidar', bev_lidar_image)"
   ]
  }
 ],
 "metadata": {
  "kernelspec": {
   "display_name": "Python 3.6.9 64-bit",
   "language": "python",
   "name": "python3"
  },
  "language_info": {
   "codemirror_mode": {
    "name": "ipython",
    "version": 3
   },
   "file_extension": ".py",
   "mimetype": "text/x-python",
   "name": "python",
   "nbconvert_exporter": "python",
   "pygments_lexer": "ipython3",
   "version": "3.6.9"
  },
  "orig_nbformat": 4,
  "vscode": {
   "interpreter": {
    "hash": "31f2aee4e71d21fbe5cf8b01ff0e069b9275f58929596ceb00d14d90e3e16cd6"
   }
  }
 },
 "nbformat": 4,
 "nbformat_minor": 2
}
